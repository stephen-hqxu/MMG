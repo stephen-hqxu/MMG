{
 "cells": [
  {
   "cell_type": "markdown",
   "id": "0b3531f6",
   "metadata": {},
   "source": [
    "# Data Visualisation\n",
    "\n",
    "Midi data are first processed into tensor so it can be used for training later. We want to visualise the memory in tensor to confirm the data preprocessing step works."
   ]
  },
  {
   "cell_type": "code",
   "execution_count": null,
   "id": "3c9755e5",
   "metadata": {},
   "outputs": [],
   "source": [
    "from MidiTensor import MidiTensor\n",
    "\n",
    "from pretty_midi import PrettyMIDI\n",
    "import matplotlib.pyplot as plt\n",
    "import numpy as np\n",
    "\n",
    "# TODO: choose your own test file here\n",
    "MidiDir = \"../../extract_dynamics/data/Liszt_donjuan-performance.mid\"\n",
    "\n",
    "# load MIDI file\n",
    "MidiFile = PrettyMIDI(MidiDir)\n",
    "MidiMemory = MidiTensor(MidiFile)"
   ]
  },
  {
   "cell_type": "markdown",
   "id": "a2b54c44",
   "metadata": {},
   "source": [
    "Visualise the MIDI tensor as an image, and display the image."
   ]
  },
  {
   "cell_type": "code",
   "execution_count": null,
   "id": "ea0e7da5",
   "metadata": {
    "scrolled": false
   },
   "outputs": [],
   "source": [
    "# specified in seconds\n",
    "displayRange = (160.0, 188.0)\n",
    "# convert time in seconds to tick\n",
    "displayRange = tuple((MidiFile.time_to_tick(t) for t in displayRange))\n",
    "\n",
    "pianoRoll = MidiMemory.visualise(displayRange, MidiTensor.TensorType.VELOCITY, \"coral\")\n",
    "fig, axe = plt.subplots(figsize = (15, 5))\n",
    "axe.set_title(\"MIDI Piano Roll Visualisation\")\n",
    "axe.set_xlabel(\"Tick\")\n",
    "axe.set_ylabel(\"Piano Pitch\")\n",
    "# swap time and pitch axis and stretch the image to fit the display dimension\n",
    "axe.imshow(pianoRoll, interpolation = \"nearest\", aspect = \"auto\",\n",
    "    extent = [displayRange[0], displayRange[1], MidiTensor.NOTE_COUNT, 0])"
   ]
  }
 ],
 "metadata": {
  "kernelspec": {
   "display_name": "Python 3 (ipykernel)",
   "language": "python",
   "name": "python3"
  },
  "language_info": {
   "codemirror_mode": {
    "name": "ipython",
    "version": 3
   },
   "file_extension": ".py",
   "mimetype": "text/x-python",
   "name": "python",
   "nbconvert_exporter": "python",
   "pygments_lexer": "ipython3",
   "version": "3.10.6"
  }
 },
 "nbformat": 4,
 "nbformat_minor": 5
}
